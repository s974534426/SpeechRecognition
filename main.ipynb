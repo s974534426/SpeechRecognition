{
 "cells": [
  {
   "cell_type": "markdown",
   "metadata": {},
   "source": [
    "# 语音指令识别"
   ]
  },
  {
   "cell_type": "markdown",
   "metadata": {},
   "source": [
    "这部分是训练使用的代码，包括8个部分：\n",
    "\n",
    "- 1、数据读取\n",
    "- 2、数据增强\n",
    "- 3、提取mfcc特征\n",
    "- 4、提取logmelspectrum特征\n",
    "- 5、vgg训练\n",
    "- 6、resnet训练\n",
    "- 7、densenet训练\n",
    "- 8、集成三个网络模型"
   ]
  },
  {
   "cell_type": "code",
   "execution_count": 1,
   "metadata": {},
   "outputs": [],
   "source": [
    "import warnings\n",
    "warnings.filterwarnings(\"ignore\")\n",
    "\n",
    "# 通用\n",
    "import numpy as np\n",
    "import pandas \n",
    "import matplotlib.pyplot as plt\n",
    "import os\n",
    "\n",
    "# 语音处理\n",
    "import librosa\n",
    "import librosa.display\n",
    "import IPython.display as ipd\n",
    "import webrtcvad\n",
    "\n",
    "from tensorflow import keras\n",
    "from sklearn.model_selection import train_test_split\n",
    "from sklearn.utils import shuffle\n",
    "\n",
    "from tools import get_data, preprocess_mel, preprocess_mfcc\n",
    "\n",
    "from vggnet19 import vgg_net\n",
    "from resnet50 import ResNet50\n",
    "from densenet import DenseNet\n",
    "from warmup_cosdecay import WarmUpCosineDecayScheduler"
   ]
  },
  {
   "cell_type": "markdown",
   "metadata": {},
   "source": [
    "## 1. 数据读取"
   ]
  },
  {
   "cell_type": "code",
   "execution_count": 2,
   "metadata": {},
   "outputs": [],
   "source": [
    "raw_train_data, train_label_names = get_data('dataset/train/')\n",
    "raw_test_data, test_label_names = get_data('dataset/test/')"
   ]
  },
  {
   "cell_type": "markdown",
   "metadata": {},
   "source": [
    "## 2. 数据增强"
   ]
  },
  {
   "cell_type": "code",
   "execution_count": 3,
   "metadata": {},
   "outputs": [],
   "source": [
    "# 包括增加噪声、time shift、time stretch、pitch shift\n",
    "\n",
    "def add_noise(x, w=0.006):\n",
    "    output = x + w * np.random.normal(loc=0, scale=1, size=len(x))\n",
    "    return output\n",
    "\n",
    "def time_shift(x, shift):\n",
    "    return np.roll(x, int(shift))\n",
    "\n",
    "def time_stretch(x, rate):\n",
    "    return librosa.effects.time_stretch(x, rate)\n",
    "\n",
    "def pitch_shift(x, sr, n_steps, bins_per_octave):\n",
    "    return librosa.effects.pitch_shift(x, sr, n_steps, bins_per_octave=bins_per_octave)"
   ]
  },
  {
   "cell_type": "code",
   "execution_count": 4,
   "metadata": {},
   "outputs": [],
   "source": [
    "new_train_datas = []\n",
    "for datas in raw_train_data:\n",
    "    new_datas = []\n",
    "    for data in datas:\n",
    "        sample, sr = data\n",
    "        \n",
    "        new_datas.append([add_noise(sample), sr])\n",
    "        new_datas.append([time_shift(sample, np.random.uniform(2000, 4000)), sr])\n",
    "        new_datas.append([time_stretch(sample, np.random.uniform(1.5, 2.5)), sr])\n",
    "            \n",
    "        if np.random.randint(0, 2) == 0:\n",
    "            new_datas.append([pitch_shift(sample, sr, 6, 12), sr])\n",
    "        else:\n",
    "            new_datas.append([pitch_shift(sample, sr, -6, 12), sr])\n",
    "        \n",
    "    new_train_datas.append(new_datas)        "
   ]
  },
  {
   "cell_type": "code",
   "execution_count": 5,
   "metadata": {},
   "outputs": [],
   "source": [
    "# 将增强后生成的数据加入训练集\n",
    "for i in range(len(raw_train_data)):\n",
    "    raw_train_data[i].extend(new_train_datas[i])"
   ]
  },
  {
   "cell_type": "markdown",
   "metadata": {},
   "source": [
    "## 3. Delta2mfcc"
   ]
  },
  {
   "cell_type": "code",
   "execution_count": 6,
   "metadata": {},
   "outputs": [],
   "source": [
    "label_dit = {'go': 0, 'left': 1, 'off': 0, 'on': 0, 'right': 2, 'stop': 3}\n",
    "\n",
    "# 对数据预处理并生成label\n",
    "delta_mfcc_train_data = []\n",
    "delta_mfcc_train_labels = []\n",
    "for i in range(len(raw_train_data)):\n",
    "    delta_mfcc_train_data.extend(list(map(preprocess_mfcc, raw_train_data[i])))\n",
    "    delta_mfcc_train_labels.extend(np.ones(len(raw_train_data[i])).astype(np.int32) * label_dit[train_label_names[i]])\n",
    "    \n",
    "# 打乱数据，很重要\n",
    "delta_mfcc_train_data, delta_mfcc_train_labels = shuffle(delta_mfcc_train_data, delta_mfcc_train_labels) \n",
    "\n",
    "delta_mfcc_test_data = []\n",
    "delta_mfcc_test_labels = []\n",
    "for i in range(len(raw_test_data)):\n",
    "    delta_mfcc_test_data.extend(list(map(preprocess_mfcc, raw_test_data[i])))\n",
    "    delta_mfcc_test_labels.extend(np.ones(len(raw_test_data[i])).astype(np.int32) * label_dit[test_label_names[i]])"
   ]
  },
  {
   "cell_type": "code",
   "execution_count": 7,
   "metadata": {},
   "outputs": [
    {
     "data": {
      "text/plain": [
       "((11960, 40, 32, 1), (11960,), (289, 40, 32, 1), (289,))"
      ]
     },
     "execution_count": 7,
     "metadata": {},
     "output_type": "execute_result"
    }
   ],
   "source": [
    "delta_mfcc_train_data = np.array(delta_mfcc_train_data)\n",
    "delta_mfcc_train_labels = np.array(delta_mfcc_train_labels)\n",
    "\n",
    "delta_mfcc_test_data = np.array(delta_mfcc_test_data)\n",
    "delta_mfcc_test_labels = np.array(delta_mfcc_test_labels)\n",
    "\n",
    "delta_mfcc_train_data.shape, delta_mfcc_train_labels.shape, delta_mfcc_test_data.shape, delta_mfcc_test_labels.shape"
   ]
  },
  {
   "cell_type": "markdown",
   "metadata": {},
   "source": [
    "## 4. logmelspectrum"
   ]
  },
  {
   "cell_type": "code",
   "execution_count": 8,
   "metadata": {},
   "outputs": [],
   "source": [
    "label_dit = {'go': 0, 'left': 1, 'off': 0, 'on': 0, 'right': 2, 'stop': 3}\n",
    "\n",
    "# 对数据预处理并生成label\n",
    "mel_train_data = []\n",
    "mel_train_labels = []\n",
    "for i in range(len(raw_train_data)):\n",
    "    mel_train_data.extend(list(map(preprocess_mel, raw_train_data[i])))\n",
    "    mel_train_labels.extend(np.ones(len(raw_train_data[i])).astype(np.int32) * label_dit[train_label_names[i]])\n",
    "    \n",
    "# 打乱数据，很重要\n",
    "mel_train_data, mel_train_labels = shuffle(mel_train_data, mel_train_labels) \n",
    "\n",
    "mel_test_data = []\n",
    "mel_test_labels = []\n",
    "for i in range(len(raw_test_data)):\n",
    "    mel_test_data.extend(list(map(preprocess_mel, raw_test_data[i])))\n",
    "    mel_test_labels.extend(np.ones(len(raw_test_data[i])).astype(np.int32) * label_dit[test_label_names[i]])"
   ]
  },
  {
   "cell_type": "code",
   "execution_count": 9,
   "metadata": {},
   "outputs": [
    {
     "data": {
      "text/plain": [
       "((11960, 120, 32, 1), (11960,), (289, 120, 32, 1), (289,))"
      ]
     },
     "execution_count": 9,
     "metadata": {},
     "output_type": "execute_result"
    }
   ],
   "source": [
    "mel_train_data = np.array(mel_train_data)\n",
    "mel_train_labels = np.array(mel_train_labels)\n",
    "\n",
    "mel_test_data = np.array(mel_test_data)\n",
    "mel_test_labels = np.array(mel_test_labels)\n",
    "\n",
    "mel_train_data.shape, mel_train_labels.shape, mel_test_data.shape, mel_test_labels.shape"
   ]
  },
  {
   "cell_type": "markdown",
   "metadata": {},
   "source": [
    "# 5. VGG19"
   ]
  },
  {
   "cell_type": "code",
   "execution_count": 10,
   "metadata": {},
   "outputs": [
    {
     "name": "stdout",
     "output_type": "stream",
     "text": [
      "WARNING:tensorflow:From /home/songlei/.local/lib/python3.6/site-packages/tensorflow/python/ops/init_ops.py:1251: calling VarianceScaling.__init__ (from tensorflow.python.ops.init_ops) with dtype is deprecated and will be removed in a future version.\n",
      "Instructions for updating:\n",
      "Call initializer instance with the dtype argument instead of passing it to the constructor\n",
      "WARNING:tensorflow:From /home/songlei/Desktop/code/race/vggnet19.py:25: The name tf.keras.initializers.he_uniform is deprecated. Please use tf.compat.v1.keras.initializers.he_uniform instead.\n",
      "\n"
     ]
    }
   ],
   "source": [
    "vgg = vgg_net((40, 32, 1), 4)"
   ]
  },
  {
   "cell_type": "code",
   "execution_count": 11,
   "metadata": {},
   "outputs": [],
   "source": [
    "warm_up_lr = WarmUpCosineDecayScheduler(\n",
    "    learning_rate_base=0.01,\n",
    "    total_steps=2000,\n",
    "    warmup_learning_rate=4e-06,\n",
    "    warmup_steps=100,\n",
    "    hold_base_rate_steps=0,\n",
    ")\n",
    "\n",
    "optimizer = keras.optimizers.Adam()\n",
    "\n",
    "callbacks = [\n",
    "    keras.callbacks.EarlyStopping(patience=3, monitor='val_loss'),\n",
    "    warm_up_lr\n",
    "]\n",
    "\n",
    "vgg.compile(optimizer=optimizer,\n",
    "            loss=keras.losses.sparse_categorical_crossentropy,\n",
    "            metrics=['accuracy'])"
   ]
  },
  {
   "cell_type": "code",
   "execution_count": 19,
   "metadata": {},
   "outputs": [],
   "source": [
    "vgg.fit(delta_mfcc_train_data, delta_mfcc_train_labels, epochs=50, batch_size=32, validation_split=0.2, callbacks=callbacks)"
   ]
  },
  {
   "cell_type": "code",
   "execution_count": 40,
   "metadata": {},
   "outputs": [],
   "source": [
    "# vgg.save_weights('vgg_net_weight/vgg19_net')"
   ]
  },
  {
   "cell_type": "code",
   "execution_count": 14,
   "metadata": {},
   "outputs": [
    {
     "data": {
      "text/plain": [
       "<tensorflow.python.training.tracking.util.CheckpointLoadStatus at 0x7f5374f4eb70>"
      ]
     },
     "execution_count": 14,
     "metadata": {},
     "output_type": "execute_result"
    }
   ],
   "source": [
    "vgg.load_weights('vgg_net_weight/vgg19_net')"
   ]
  },
  {
   "cell_type": "code",
   "execution_count": 15,
   "metadata": {},
   "outputs": [
    {
     "name": "stdout",
     "output_type": "stream",
     "text": [
      "289/289 [==============================] - 0s 158us/sample - loss: 0.5886 - acc: 0.8547\n"
     ]
    },
    {
     "data": {
      "text/plain": [
       "[0.5885787816608653, 0.8546713]"
      ]
     },
     "execution_count": 15,
     "metadata": {},
     "output_type": "execute_result"
    }
   ],
   "source": [
    "vgg.evaluate(delta_mfcc_test_data, delta_mfcc_test_labels)"
   ]
  },
  {
   "cell_type": "markdown",
   "metadata": {},
   "source": [
    "## 6. ResNet50"
   ]
  },
  {
   "cell_type": "code",
   "execution_count": 16,
   "metadata": {},
   "outputs": [],
   "source": [
    "resnet = ResNet50(input_shape=(120, 32, 1), classes=4)"
   ]
  },
  {
   "cell_type": "code",
   "execution_count": 17,
   "metadata": {},
   "outputs": [],
   "source": [
    "warm_up_lr = WarmUpCosineDecayScheduler(\n",
    "    learning_rate_base=0.01,\n",
    "    total_steps=2000,\n",
    "    warmup_learning_rate=4e-06,\n",
    "    warmup_steps=200,\n",
    "    hold_base_rate_steps=0,\n",
    ")\n",
    "\n",
    "optimizer = keras.optimizers.Adam()\n",
    "\n",
    "callbacks = [\n",
    "    keras.callbacks.EarlyStopping(patience=3, monitor='val_loss'),\n",
    "    warm_up_lr\n",
    "]\n",
    "\n",
    "resnet.compile(\n",
    "    optimizer=optimizer,\n",
    "    loss=keras.losses.sparse_categorical_crossentropy,\n",
    "    metrics=['accuracy']\n",
    ")"
   ]
  },
  {
   "cell_type": "code",
   "execution_count": 18,
   "metadata": {},
   "outputs": [],
   "source": [
    "resnet.fit(mel_train_data, mel_train_labels, epochs=50, batch_size=32, validation_split=0.2, callbacks=callbacks)"
   ]
  },
  {
   "cell_type": "code",
   "execution_count": 28,
   "metadata": {},
   "outputs": [],
   "source": [
    "# resnet.save_weights('resnet_weight/resnet')"
   ]
  },
  {
   "cell_type": "code",
   "execution_count": 20,
   "metadata": {},
   "outputs": [
    {
     "data": {
      "text/plain": [
       "<tensorflow.python.training.tracking.util.CheckpointLoadStatus at 0x7f52a7e5de80>"
      ]
     },
     "execution_count": 20,
     "metadata": {},
     "output_type": "execute_result"
    }
   ],
   "source": [
    "resnet.load_weights('resnet_weight/resnet')"
   ]
  },
  {
   "cell_type": "code",
   "execution_count": 21,
   "metadata": {},
   "outputs": [
    {
     "name": "stdout",
     "output_type": "stream",
     "text": [
      "289/289 [==============================] - 1s 2ms/sample - loss: 0.4048 - acc: 0.8685\n"
     ]
    },
    {
     "data": {
      "text/plain": [
       "[0.4048273695252552, 0.8685121]"
      ]
     },
     "execution_count": 21,
     "metadata": {},
     "output_type": "execute_result"
    }
   ],
   "source": [
    "resnet.evaluate(mel_test_data, mel_test_labels)"
   ]
  },
  {
   "cell_type": "markdown",
   "metadata": {},
   "source": [
    "## 7. DenseNet"
   ]
  },
  {
   "cell_type": "code",
   "execution_count": 22,
   "metadata": {},
   "outputs": [],
   "source": [
    "densenet_mel = DenseNet(4, (120, 32, 1), dropout_rate=0.4)"
   ]
  },
  {
   "cell_type": "code",
   "execution_count": 23,
   "metadata": {},
   "outputs": [],
   "source": [
    "warm_up_lr = WarmUpCosineDecayScheduler(\n",
    "    learning_rate_base=0.01,\n",
    "    total_steps=2000,\n",
    "    warmup_learning_rate=4e-06,\n",
    "    warmup_steps=200,\n",
    "    hold_base_rate_steps=0,\n",
    ")\n",
    "\n",
    "optimizer = keras.optimizers.Adam()\n",
    "\n",
    "callbacks = [\n",
    "    keras.callbacks.EarlyStopping(patience=3, monitor='val_loss'),\n",
    "    warm_up_lr\n",
    "]\n",
    "\n",
    "densenet_mel.compile(\n",
    "    optimizer=optimizer,\n",
    "    loss=keras.losses.sparse_categorical_crossentropy,\n",
    "    metrics=['accuracy']\n",
    ")"
   ]
  },
  {
   "cell_type": "code",
   "execution_count": 24,
   "metadata": {},
   "outputs": [],
   "source": [
    "densenet_mel.fit(mel_train_data, mel_train_labels, epochs=50, batch_size=32, validation_split=0.2, callbacks=callbacks)"
   ]
  },
  {
   "cell_type": "code",
   "execution_count": 25,
   "metadata": {},
   "outputs": [],
   "source": [
    "# densenet_mel.save_weights('densenet/densenet')"
   ]
  },
  {
   "cell_type": "code",
   "execution_count": 26,
   "metadata": {},
   "outputs": [
    {
     "data": {
      "text/plain": [
       "<tensorflow.python.training.tracking.util.CheckpointLoadStatus at 0x7f529c88fac8>"
      ]
     },
     "execution_count": 26,
     "metadata": {},
     "output_type": "execute_result"
    }
   ],
   "source": [
    "densenet_mel.load_weights('densenet/densenet')"
   ]
  },
  {
   "cell_type": "code",
   "execution_count": 27,
   "metadata": {},
   "outputs": [
    {
     "name": "stdout",
     "output_type": "stream",
     "text": [
      "289/289 [==============================] - 3s 9ms/sample - loss: 0.5700 - acc: 0.8512\n"
     ]
    },
    {
     "data": {
      "text/plain": [
       "[0.5699630165698206, 0.8512111]"
      ]
     },
     "execution_count": 27,
     "metadata": {},
     "output_type": "execute_result"
    }
   ],
   "source": [
    "densenet_mel.evaluate(mel_test_data, mel_test_labels)"
   ]
  },
  {
   "cell_type": "markdown",
   "metadata": {},
   "source": [
    "## 8. 集成"
   ]
  },
  {
   "cell_type": "code",
   "execution_count": 29,
   "metadata": {},
   "outputs": [],
   "source": [
    "# 检查两种label是否相同\n",
    "assert sum(delta_mfcc_test_labels != mel_test_labels) == 0"
   ]
  },
  {
   "cell_type": "code",
   "execution_count": 30,
   "metadata": {},
   "outputs": [
    {
     "data": {
      "text/plain": [
       "0.9065743944636678"
      ]
     },
     "execution_count": 30,
     "metadata": {},
     "output_type": "execute_result"
    }
   ],
   "source": [
    "sum(\n",
    "    (vgg.predict(delta_mfcc_test_data) + \n",
    "     resnet.predict(mel_test_data) + \n",
    "     densenet_mel.predict(mel_test_data)).argmax(axis=1) == mel_test_labels\n",
    ") / len(mel_test_labels)"
   ]
  },
  {
   "cell_type": "code",
   "execution_count": null,
   "metadata": {},
   "outputs": [],
   "source": []
  }
 ],
 "metadata": {
  "kernelspec": {
   "display_name": "Python 3",
   "language": "python",
   "name": "python3"
  },
  "language_info": {
   "codemirror_mode": {
    "name": "ipython",
    "version": 3
   },
   "file_extension": ".py",
   "mimetype": "text/x-python",
   "name": "python",
   "nbconvert_exporter": "python",
   "pygments_lexer": "ipython3",
   "version": "3.6.9"
  }
 },
 "nbformat": 4,
 "nbformat_minor": 4
}
